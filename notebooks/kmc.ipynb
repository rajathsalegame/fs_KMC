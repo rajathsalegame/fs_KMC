{
 "cells": [
  {
   "cell_type": "markdown",
   "metadata": {},
   "source": [
    "### Two-Transition Path Kinetic Monte Carlo Simulation"
   ]
  },
  {
   "cell_type": "code",
   "execution_count": 1,
   "metadata": {},
   "outputs": [],
   "source": [
    "import numpy as np \n",
    "from matplotlib import pyplot as plt \n",
    "import scipy as sp"
   ]
  },
  {
   "cell_type": "markdown",
   "metadata": {},
   "source": [
    "We first define the Hamiltonian in order to properly simulate the system.\n",
    "\n",
    "We have a system with two basins $A$ and $B$, each with 3 microstates labeled as below:\n",
    "\n",
    "$$ \\{0,1,2\\} \\in A; \\{3,4,5\\} \\in B $$\n",
    "\n",
    "We arbitrarily define our reaction landscape such that Basin $A$ has a lower energy than Basin $B$.\n",
    "\n",
    "Let the energy of basin $A$ defined as $E_A$, and the energy of basin $B$ defined as $E_B$.\n",
    "\n",
    "The free energy of each basin $i$ can be written as:\n",
    "\n",
    "$$ F_i = E_i - \\beta^{-1} \\log \\Omega $$\n",
    "\n",
    "where $\\Omega$ is the number of microstates in each basin (here it is simply 3) and $\\beta^{-1} = k_B T$.\n",
    "\n",
    "Based on transition state theory, the reaction rate for a reaction $X \\to Y$ is given by the Arrhenius rate equation:\n",
    "\n",
    "$$ k_{X \\to Y} \\propto e^{-\\beta \\Delta F_{X \\to Y} }$$\n",
    "\n",
    "where $\\Delta F_{X \\to Y}$ is the height of the activation energy barrier (difference in free energy) in the direction $X \\to Y$. \n",
    "\n",
    "Note that we also have transitions between microstates within a basin, albeit with a relatively small activation energy energy barrier. \n",
    "\n",
    "To specify our system entirely, we must thus define $F_I, F_{II}, F_A, F_B$ where $F_I$ and $F_{II}$ are the free energies of the saddle points in transition paths $I$ and $II$, and $F_A$ and $F_B$ correspond to the free energies of basins $A$ and $B$. In addition, we must also include the reaction rates within each basin: for simplicity, we make these activation energy heights the same across all basins:, on the order of $k_B T = \\beta^{-1}$. \n",
    "\n",
    "To tune the height of the activation energy barrier for our two transition paths $I$ and $II$, we define two constants $\\alpha_1$ and $\\alpha_2$, which scale the activation energy barrier for transition paths $I$ and $II$ respectively. \n",
    "\n",
    "To simulate the system realistically, even though the true microstates all have the same energy, we add a noise term $\\epsilon \\sim \\mathcal{N}(0,(.01\\cdot\\beta^{-1})^2)$ to the underlying true energy ($E_A$ or $E_B$) of our system.\n",
    "\n",
    "Thus, we can now generate our 6-state MSM and the corresponding KMC transition matrix based on the energies we impose on our system.\n",
    "\n",
    "A simple implementation of a 6-state MSM KMC simulation is given below, where we have the connections:\n",
    "\n",
    "$$ 1 \\to 3, 2 \\to 4 $$"
   ]
  },
  {
   "cell_type": "code",
   "execution_count": 42,
   "metadata": {},
   "outputs": [
    {
     "name": "stdout",
     "output_type": "stream",
     "text": [
      "Free energy of microstate 0: -0.008948107850882564\n",
      "Free energy of microstate 1: -0.010613674409235347\n",
      "Free energy of microstate 2: -0.008703739012656626\n",
      "Free energy of microstate 3: 0.29040840056337686\n",
      "Free energy of microstate 4: 0.2903698349330016\n",
      "Free energy of microstate 5: 0.28978714378995396\n"
     ]
    },
    {
     "data": {
      "text/plain": [
       "array([[0.00000000e+00, 3.67879441e-01, 3.66981556e-01, 0.00000000e+00,\n",
       "        0.00000000e+00, 0.00000000e+00],\n",
       "       [3.61802909e-01, 0.00000000e+00, 3.60919855e-01, 2.23734481e-06,\n",
       "        0.00000000e+00, 0.00000000e+00],\n",
       "       [3.67879441e-01, 3.67879441e-01, 0.00000000e+00, 0.00000000e+00,\n",
       "        3.38584881e-04, 0.00000000e+00],\n",
       "       [0.00000000e+00, 4.53999298e-05, 0.00000000e+00, 0.00000000e+00,\n",
       "        3.67879441e-01, 3.67879441e-01],\n",
       "       [0.00000000e+00, 0.00000000e+00, 6.73794700e-03, 3.67737593e-01,\n",
       "        0.00000000e+00, 3.67879441e-01],\n",
       "       [0.00000000e+00, 0.00000000e+00, 0.00000000e+00, 3.65601050e-01,\n",
       "        3.65742073e-01, 0.00000000e+00]])"
      ]
     },
     "execution_count": 42,
     "metadata": {},
     "output_type": "execute_result"
    }
   ],
   "source": [
    "# generate 6-state MSM and corresponding transition matrix based on rates\n",
    "from itertools import permutations \n",
    "\n",
    "beta = 10\n",
    "\n",
    "e_a = 1/beta\n",
    "e_b = 4/beta\n",
    "\n",
    "alpha1 = 10\n",
    "alpha2 = 5\n",
    "\n",
    "def gen_MSM(alpha1,alpha2):\n",
    "    # define free energies \n",
    "    f_A = e_a - 1/beta * np.log(3)\n",
    "    f_B = e_b - 1/beta * np.log(3)\n",
    "\n",
    "    # define free energies of states in basin A and B\n",
    "    f_basinA = np.random.normal(loc=0,scale=.01/beta,size=3) + np.ones(3)*f_A\n",
    "    f_basinB = np.random.normal(loc=0,scale=.01/beta,size=3) + np.ones(3)*f_B\n",
    "    \n",
    "    f_system = np.array([f_basinA, f_basinB]).flatten()\n",
    "    \n",
    "    for i in range(len(f_system)):\n",
    "        print(f\"Free energy of microstate {i}: {f_system[i]}\")\n",
    "    \n",
    "    # we now calculate reaction rates based on these free energies assigned to our microstates:\n",
    "    # our connections are as follows: \n",
    "    # 0<->1, 1<->2, 2<->0, 3<->4, 4<->5, 5<->3, 1<->3 (transition path 1), 2<->4 (transition path 2)\n",
    "    \n",
    "    deltaf_saddle1 = alpha1 / beta\n",
    "    deltaf_saddle2 = alpha2 / beta\n",
    "    deltaf_basin = 1 / beta\n",
    "    \n",
    "#     print(deltaf_saddle1, deltaf_saddle2)\n",
    "    \n",
    "    # generate probability transition matrix \n",
    "    P = np.zeros((6,6))\n",
    "    for (i,j) in list(permutations(list(range(6)),r=2)):\n",
    "        \n",
    "        if i == j: # both states are the same\n",
    "            rate_ij = 0\n",
    "        elif i in list(range(3)) and j in list(range(3)): # both states are in basin A\n",
    "            f_activation = max(f_system[i]+deltaf_basin,f_system[j]+deltaf_basin)\n",
    "            rate_ij = np.exp(-beta*(f_activation-f_system[i]))\n",
    "#             print(f'{i},{j},{f_activation}') \n",
    "        elif (i not in list(range(3)) and j in list(range(3))) or (i in list(range(3)) and j not in list(range(3))): # one is in A, the other is in B\n",
    "            if (i == 1 and j == 3) or (i == 3 and j == 1):\n",
    "                f_activation = max(f_system[i]+deltaf_saddle1,f_system[j]+deltaf_saddle1)\n",
    "                rate_ij = np.exp(-beta*(f_activation-f_system[i]))\n",
    "            elif (i == 2 and j == 4) or (i == 4 and j == 2):\n",
    "                f_activation = max(f_system[i]+deltaf_saddle2,f_system[j]+deltaf_saddle2)\n",
    "                rate_ij = np.exp(-beta*(f_activation-f_system[i]))\n",
    "            else:\n",
    "                rate_ij = 0\n",
    "#             print(f'{i},{j},{f_activation}') \n",
    "        else: # both states are in basin B\n",
    "            f_activation = max(f_system[i]+deltaf_basin,f_system[j]+deltaf_basin)\n",
    "            rate_ij = np.exp(-beta*(f_activation-f_system[i]))\n",
    "#             print(f'{i},{j},{f_activation}') \n",
    "        \n",
    "        P[i,j] = rate_ij\n",
    "        \n",
    "    return P\n",
    "        \n",
    "gen_MSM(alpha_1,alpha_2)"
   ]
  },
  {
   "cell_type": "code",
   "execution_count": 56,
   "metadata": {},
   "outputs": [
    {
     "name": "stdout",
     "output_type": "stream",
     "text": [
      "Free energy of microstate 0: -0.011256228866484388\n",
      "Free energy of microstate 1: -0.00886734782603811\n",
      "Free energy of microstate 2: -0.009429632157401929\n",
      "Free energy of microstate 3: 0.2884027322764716\n",
      "Free energy of microstate 4: 0.2899496686670319\n",
      "Free energy of microstate 5: 0.28966178922016966\n",
      "[[0.00000000e+00 3.59195378e-01 3.61220766e-01 0.00000000e+00\n",
      "  0.00000000e+00 0.00000000e+00]\n",
      " [3.67879441e-01 0.00000000e+00 3.67879441e-01 2.32288456e-06\n",
      "  0.00000000e+00 0.00000000e+00]\n",
      " [3.67879441e-01 3.65816717e-01 0.00000000e+00 0.00000000e+00\n",
      "  3.37551317e-04 0.00000000e+00]\n",
      " [0.00000000e+00 4.53999298e-05 0.00000000e+00 0.00000000e+00\n",
      "  3.62232371e-01 3.63276666e-01]\n",
      " [0.00000000e+00 0.00000000e+00 6.73794700e-03 3.67879441e-01\n",
      "  0.00000000e+00 3.67879441e-01]\n",
      " [0.00000000e+00 0.00000000e+00 0.00000000e+00 3.67879441e-01\n",
      "  3.66821915e-01 0.00000000e+00]]\n"
     ]
    },
    {
     "data": {
      "text/plain": [
       "(6, 6)"
      ]
     },
     "execution_count": 56,
     "metadata": {},
     "output_type": "execute_result"
    }
   ],
   "source": [
    "# define transition matrix\n",
    "P = gen_MSM(alpha1,alpha2)\n",
    "print(P)\n",
    "P.shape"
   ]
  },
  {
   "cell_type": "code",
   "execution_count": 50,
   "metadata": {},
   "outputs": [],
   "source": [
    "# implement KMC without rejection and define helper functions\n",
    "def kmc(P: np.array, epochs: int,init_state: int):\n",
    "    \n",
    "    init_vec_t0 = np.array([int(j == init_state) for j in range(P.shape[0])]) # one-hot vector \n",
    "    \n",
    "    R_ki = np.cumsum(P,axis=1) # returns matrix of cumulative functions \n",
    "    \n",
    "    Q_k = R_ki[:,-1] # total rates\n",
    "    \n",
    "    curr_vec = init_vec_t0\n",
    "    \n",
    "    states_list = [init_state]            # to keep track of state values\n",
    "    states_matrix = [init_vec_t0]           # matrix to keep track of state vectors\n",
    "    times = [0]                           # to keep track of timesteps\n",
    "    \n",
    "    prob_vector = init_vec_t0\n",
    "    \n",
    "    for _ in range(epochs):\n",
    "        \n",
    "        k = np.argwhere(curr_vec == 1)[0][0]\n",
    "        \n",
    "        u = np.random.uniform() # generate random number from uniform distribution\n",
    "        \n",
    "        # we now want to find i such that R_{k,i-1}< u * Q_{k} <= R_{ki} \n",
    "        \n",
    "        i = np.searchsorted(R_ki[k,:], u*Q_k[k])\n",
    "        states_list.append(i)\n",
    "        \n",
    "        curr_vec = np.array([int(j == i) for j in range(P.shape[0])]) # transition state\n",
    "        states_matrix.append(curr_vec)\n",
    "        \n",
    "        v = np.random.uniform() # draw uniform number for timestep\n",
    "        times.append(times[-1] + 1/Q_k[k] * np.log(1/v))\n",
    "        \n",
    "    return np.array(times), np.array(states_list), np.array(states_matrix).T\n",
    "\n",
    "def probabilities(state_matrix):\n",
    "    return np.sum(state_matrix,axis=1) / state_matrix.shape[1]"
   ]
  },
  {
   "cell_type": "code",
   "execution_count": 68,
   "metadata": {},
   "outputs": [],
   "source": [
    "times, states, state_matrix = kmc(P,epochs=100000,init_state=0)"
   ]
  },
  {
   "cell_type": "code",
   "execution_count": 73,
   "metadata": {},
   "outputs": [
    {
     "data": {
      "image/png": "[encoded data removed]",
      "text/plain": [
       "<Figure size 432x288 with 1 Axes>"
      ]
     },
     "metadata": {
      "needs_background": "light"
     },
     "output_type": "display_data"
    }
   ],
   "source": [
    "# plotting \n",
    "plt.plot(times[::1000],states[::1000],'-')\n",
    "plt.title(f'state transition graph')\n",
    "plt.xlabel('Time')\n",
    "plt.ylabel('State')\n",
    "plt.show()"
   ]
  },
  {
   "cell_type": "code",
   "execution_count": 74,
   "metadata": {},
   "outputs": [
    {
     "data": {
      "text/plain": [
       "array([0.31596684, 0.31425686, 0.31722683, 0.01778982, 0.01747983,\n",
       "       0.01727983])"
      ]
     },
     "execution_count": 74,
     "metadata": {},
     "output_type": "execute_result"
    }
   ],
   "source": [
    "times, states, state_matrix = kmc(P,epochs=100000,init_state=0)\n",
    "probabilities(state_matrix)"
   ]
  },
  {
   "cell_type": "markdown",
   "metadata": {},
   "source": [
    "### Unit Test:\n",
    "\n",
    "We now check the correctness of our KMC simulation by comparing the simulated probabilities to the equilibrium probabilities predicted by the Boltzmann distribution.\n",
    "\n",
    "For a Hamiltonian $\\mathcal{H}$, the probability of a state $\\omega$ is given by:\n",
    "\n",
    "$$ p(\\omega) \\propto \\exp\\{-\\beta \\cdot \\mathcal{H}(\\omega)\\} $$\n",
    "\n",
    "Here, we have $E_A = \\beta^{-1} = .01$, $E_B = 4 \\cdot \\beta^{-1}$.\n",
    "\n",
    "Thus, in the absence of noisy microstates, the equilibrium probabilities should come out to:\n",
    "\n",
    "$$p(A) = \\frac{e^{-1}}{e^{-1}+ e^{-4}} \\approx 0.953$$, $$p(B) = \\frac{e^{-4}}{e^{-1}+ e^{-4}} \\approx 0.047$$.\n",
    "\n",
    "with a relative ratio of:\n",
    "\n",
    "$$ \\frac{p(A)}{p(B)} = \\frac{e^4}{e^1} = e^3 \\approx 20.085$$\n",
    "\n",
    "We now test our simulation with $\\beta = 10$ and 50 trials to see whether we indeed recover these equilibrium probabilities:"
   ]
  },
  {
   "cell_type": "code",
   "execution_count": null,
   "metadata": {},
   "outputs": [],
   "source": [
    "num_trials = 50\n",
    "\n",
    "avg_prob = 0\n",
    "for _ in range(num_trials):\n",
    "    times, states, state_matrix = kmc(P,epochs=100000,init_state=0)\n",
    "    prob_array = probabilities(state_matrix)\n",
    "    avg_prob += prob_array / num_trials\n",
    "    avg_prob_A = prob_array[0] + prob_array[1] + prob_array[2]\n",
    "    avg_prob_B = prob_array[3] + prob_array[4] +prob_array[5]\n",
    "    \n",
    "print(\"Average equilibrium probability distribution (including microstates ):\", avg_prob)\n",
    "print(\"Average equilibrium probability of state A: \", avg_prob_A)\n",
    "print(\"Average equilibrium probability of state B: \", avg_prob_B)"
   ]
  }
 ],
 "metadata": {
  "kernelspec": {
   "display_name": "Python 3",
   "language": "python",
   "name": "python3"
  },
  "language_info": {
   "codemirror_mode": {
    "name": "ipython",
    "version": 3
   },
   "file_extension": ".py",
   "mimetype": "text/x-python",
   "name": "python",
   "nbconvert_exporter": "python",
   "pygments_lexer": "ipython3",
   "version": "3.6.9"
  }
 },
 "nbformat": 4,
 "nbformat_minor": 4
}
